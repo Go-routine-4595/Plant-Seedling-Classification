{
 "cells": [
  {
   "cell_type": "code",
   "id": "c5efb8af290bd3e4",
   "metadata": {
    "ExecuteTime": {
     "end_time": "2024-09-12T00:31:43.551041Z",
     "start_time": "2024-09-12T00:31:43.548936Z"
    }
   },
   "source": [
    "import numpy as np                                                                               # Importing numpy for Matrix Operations\n",
    "import pandas as pd\n",
    "from tensorflow.keras.preprocessing.image import ImageDataGenerator\n",
    "from PIL import Image\n",
    "from sklearn.preprocessing import LabelBinarizer"
   ],
   "outputs": [],
   "execution_count": 4
  },
  {
   "metadata": {
    "ExecuteTime": {
     "end_time": "2024-09-12T00:31:45.167788Z",
     "start_time": "2024-09-12T00:31:45.127967Z"
    }
   },
   "cell_type": "code",
   "source": [
    "# Load the image file of dataset\n",
    "image_array = np.load('images.npy')      # Complete the code to read the dataset\n",
    "\n",
    "# Load the labels file of dataset\n",
    "labels = pd.read_csv('Labels.csv')  # Complete the code to read the dataset"
   ],
   "id": "1906546ea4a9fa2c",
   "outputs": [],
   "execution_count": 5
  },
  {
   "metadata": {
    "ExecuteTime": {
     "end_time": "2024-09-12T00:31:47.022004Z",
     "start_time": "2024-09-12T00:31:47.010220Z"
    }
   },
   "cell_type": "code",
   "source": [
    "num_classes = labels['Label'].nunique()\n",
    "y = LabelBinarizer().fit_transform(labels['Label'])\n",
    "\n",
    "print(y[0])\n",
    "print(type(y))"
   ],
   "id": "aa375f253f17e7cb",
   "outputs": [
    {
     "name": "stdout",
     "output_type": "stream",
     "text": [
      "[0 0 0 0 0 0 0 0 0 0 1 0]\n",
      "<class 'numpy.ndarray'>\n"
     ]
    }
   ],
   "execution_count": 6
  },
  {
   "metadata": {
    "ExecuteTime": {
     "end_time": "2024-09-12T00:31:52.836476Z",
     "start_time": "2024-09-12T00:31:52.754695Z"
    }
   },
   "cell_type": "code",
   "source": [
    "\n",
    "# Convert images to PIL format\n",
    "pil_images = [Image.fromarray(img) for img in image_array]"
   ],
   "id": "811237310e6f6ba4",
   "outputs": [],
   "execution_count": 7
  },
  {
   "metadata": {
    "ExecuteTime": {
     "end_time": "2024-09-12T00:32:06.134396Z",
     "start_time": "2024-09-12T00:32:06.131856Z"
    }
   },
   "cell_type": "code",
   "source": [
    "\n",
    "# Create an ImageDataGenerator with desired augmentation techniques\n",
    "datagen = ImageDataGenerator(\n",
    "    rotation_range=40,\n",
    "    width_shift_range=0.2,\n",
    "    height_shift_range=0.2,\n",
    "    shear_range=0.2,\n",
    "    zoom_range=0.2,\n",
    "    horizontal_flip=True,\n",
    "    fill_mode='nearest'\n",
    ")"
   ],
   "id": "bf390c384b1b993c",
   "outputs": [],
   "execution_count": 8
  },
  {
   "metadata": {
    "ExecuteTime": {
     "end_time": "2024-09-12T00:32:09.465163Z",
     "start_time": "2024-09-12T00:32:09.446786Z"
    }
   },
   "cell_type": "code",
   "source": [
    "\n",
    "# Apply augmentations to the entire dataset\n",
    "augmented_images = [datagen.apply_transform(img, transform_parameters=datagen.get_random_transform(img.shape)) for img in pil_images]"
   ],
   "id": "7d6a3fa2e0eea0bb",
   "outputs": [
    {
     "ename": "AttributeError",
     "evalue": "'Image' object has no attribute 'shape'",
     "output_type": "error",
     "traceback": [
      "\u001B[0;31m---------------------------------------------------------------------------\u001B[0m",
      "\u001B[0;31mAttributeError\u001B[0m                            Traceback (most recent call last)",
      "Cell \u001B[0;32mIn[9], line 2\u001B[0m\n\u001B[1;32m      1\u001B[0m \u001B[38;5;66;03m# Apply augmentations to the entire dataset\u001B[39;00m\n\u001B[0;32m----> 2\u001B[0m augmented_images \u001B[38;5;241m=\u001B[39m [datagen\u001B[38;5;241m.\u001B[39mapply_transform(img, transform_parameters\u001B[38;5;241m=\u001B[39mdatagen\u001B[38;5;241m.\u001B[39mget_random_transform(img\u001B[38;5;241m.\u001B[39mshape)) \u001B[38;5;28;01mfor\u001B[39;00m img \u001B[38;5;129;01min\u001B[39;00m pil_images]\n",
      "Cell \u001B[0;32mIn[9], line 2\u001B[0m, in \u001B[0;36m<listcomp>\u001B[0;34m(.0)\u001B[0m\n\u001B[1;32m      1\u001B[0m \u001B[38;5;66;03m# Apply augmentations to the entire dataset\u001B[39;00m\n\u001B[0;32m----> 2\u001B[0m augmented_images \u001B[38;5;241m=\u001B[39m [datagen\u001B[38;5;241m.\u001B[39mapply_transform(img, transform_parameters\u001B[38;5;241m=\u001B[39mdatagen\u001B[38;5;241m.\u001B[39mget_random_transform(img\u001B[38;5;241m.\u001B[39mshape)) \u001B[38;5;28;01mfor\u001B[39;00m img \u001B[38;5;129;01min\u001B[39;00m pil_images]\n",
      "\u001B[0;31mAttributeError\u001B[0m: 'Image' object has no attribute 'shape'"
     ]
    }
   ],
   "execution_count": 9
  },
  {
   "metadata": {
    "ExecuteTime": {
     "end_time": "2024-09-12T00:34:12.038314Z",
     "start_time": "2024-09-12T00:34:05.236562Z"
    }
   },
   "cell_type": "code",
   "source": [
    "# Apply augmentations to the entire dataset\n",
    "augmented_images = []\n",
    "for img in pil_images:\n",
    "    img_array = np.array(img)  # Convert PIL Image to NumPy array\n",
    "    transform_parameters = datagen.get_random_transform(img_array.shape)\n",
    "    augmented_image = datagen.apply_transform(img_array, transform_parameters)\n",
    "    augmented_images.append(Image.fromarray(augmented_image))  # Convert back to PIL Image if needed\n",
    "\n",
    "# Ensure that 'augmented_images' is now a list of augmented PIL Image objects"
   ],
   "id": "80415cb408817a32",
   "outputs": [],
   "execution_count": 10
  },
  {
   "metadata": {
    "ExecuteTime": {
     "end_time": "2024-09-12T00:35:23.367062Z",
     "start_time": "2024-09-12T00:35:23.364518Z"
    }
   },
   "cell_type": "code",
   "source": [
    "print(type(augmented_images))\n",
    "print(type(augmented_images[0]))\n",
    "print(len(augmented_images))\n",
    "print(image_array.shape)"
   ],
   "id": "f240fb8b480b1403",
   "outputs": [
    {
     "name": "stdout",
     "output_type": "stream",
     "text": [
      "<class 'list'>\n",
      "<class 'PIL.Image.Image'>\n",
      "4750\n",
      "(4750, 128, 128, 3)\n"
     ]
    }
   ],
   "execution_count": 15
  },
  {
   "metadata": {},
   "cell_type": "code",
   "outputs": [],
   "execution_count": null,
   "source": [
    "\n",
    "# Save the augmented images (optional)\n",
    "for i, img in enumerate(augmented_images):\n",
    "    img.save(f'augmented_image_{i}.jpg')"
   ],
   "id": "7fa8cb6350ef860c"
  },
  {
   "metadata": {
    "collapsed": true,
    "ExecuteTime": {
     "end_time": "2024-09-12T00:35:42.252171Z",
     "start_time": "2024-09-12T00:35:42.151139Z"
    }
   },
   "cell_type": "code",
   "source": [
    "\n",
    "# Convert augmented images back to NumPy arrays (if needed)\n",
    "augmented_image_array = np.array([np.array(img) for img in augmented_images])"
   ],
   "id": "initial_id",
   "outputs": [],
   "execution_count": 16
  },
  {
   "metadata": {
    "ExecuteTime": {
     "end_time": "2024-09-12T00:35:58.494760Z",
     "start_time": "2024-09-12T00:35:58.492509Z"
    }
   },
   "cell_type": "code",
   "source": "print(augmented_image_array.shape)\n",
   "id": "b046a2029f479386",
   "outputs": [
    {
     "name": "stdout",
     "output_type": "stream",
     "text": [
      "(4750, 128, 128, 3)\n"
     ]
    }
   ],
   "execution_count": 17
  }
 ],
 "metadata": {
  "kernelspec": {
   "display_name": "Python 3",
   "language": "python",
   "name": "python3"
  },
  "language_info": {
   "codemirror_mode": {
    "name": "ipython",
    "version": 2
   },
   "file_extension": ".py",
   "mimetype": "text/x-python",
   "name": "python",
   "nbconvert_exporter": "python",
   "pygments_lexer": "ipython2",
   "version": "2.7.6"
  }
 },
 "nbformat": 4,
 "nbformat_minor": 5
}
